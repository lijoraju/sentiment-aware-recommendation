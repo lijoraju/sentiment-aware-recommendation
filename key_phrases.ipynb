{
 "cells": [
  {
   "cell_type": "code",
   "execution_count": 1,
   "id": "7f282411",
   "metadata": {
    "_cell_guid": "b1076dfc-b9ad-4769-8c92-a6c4dae69d19",
    "_uuid": "8f2839f25d086af736a60e9eeb907d3b93b6e0e5",
    "execution": {
     "iopub.execute_input": "2025-05-10T14:35:18.850891Z",
     "iopub.status.busy": "2025-05-10T14:35:18.850533Z",
     "iopub.status.idle": "2025-05-10T14:35:23.689292Z",
     "shell.execute_reply": "2025-05-10T14:35:23.688105Z"
    },
    "papermill": {
     "duration": 4.846315,
     "end_time": "2025-05-10T14:35:23.691091",
     "exception": false,
     "start_time": "2025-05-10T14:35:18.844776",
     "status": "completed"
    },
    "tags": []
   },
   "outputs": [],
   "source": [
    "import pandas as pd\n",
    "import nltk\n",
    "from nltk import bigrams, trigrams\n",
    "from nltk.corpus import stopwords\n",
    "from nltk.tokenize import word_tokenize\n",
    "from nltk.tag import pos_tag\n",
    "from collections import Counter\n",
    "import numpy as np\n",
    "import re\n",
    "from sklearn.feature_extraction.text import TfidfVectorizer\n",
    "from sklearn.metrics.pairwise import cosine_similarity"
   ]
  },
  {
   "cell_type": "code",
   "execution_count": 2,
   "id": "e356bbde",
   "metadata": {
    "execution": {
     "iopub.execute_input": "2025-05-10T14:35:23.702360Z",
     "iopub.status.busy": "2025-05-10T14:35:23.701810Z",
     "iopub.status.idle": "2025-05-10T14:35:24.714680Z",
     "shell.execute_reply": "2025-05-10T14:35:24.713311Z"
    },
    "papermill": {
     "duration": 1.02014,
     "end_time": "2025-05-10T14:35:24.716599",
     "exception": false,
     "start_time": "2025-05-10T14:35:23.696459",
     "status": "completed"
    },
    "tags": []
   },
   "outputs": [
    {
     "name": "stderr",
     "output_type": "stream",
     "text": [
      "[nltk_data] Downloading package punkt to /usr/share/nltk_data...\n",
      "[nltk_data]   Package punkt is already up-to-date!\n",
      "[nltk_data] Downloading package stopwords to /usr/share/nltk_data...\n",
      "[nltk_data]   Package stopwords is already up-to-date!\n",
      "[nltk_data] Downloading package averaged_perceptron_tagger_eng to\n",
      "[nltk_data]     /usr/share/nltk_data...\n",
      "[nltk_data]   Unzipping taggers/averaged_perceptron_tagger_eng.zip.\n"
     ]
    },
    {
     "data": {
      "text/plain": [
       "True"
      ]
     },
     "execution_count": 2,
     "metadata": {},
     "output_type": "execute_result"
    }
   ],
   "source": [
    "nltk.download('punkt')\n",
    "nltk.download('stopwords')\n",
    "nltk.download('averaged_perceptron_tagger_eng')"
   ]
  },
  {
   "cell_type": "code",
   "execution_count": 3,
   "id": "43973063",
   "metadata": {
    "execution": {
     "iopub.execute_input": "2025-05-10T14:35:24.728669Z",
     "iopub.status.busy": "2025-05-10T14:35:24.728283Z",
     "iopub.status.idle": "2025-05-10T14:35:25.511474Z",
     "shell.execute_reply": "2025-05-10T14:35:25.510420Z"
    },
    "papermill": {
     "duration": 0.792125,
     "end_time": "2025-05-10T14:35:25.513437",
     "exception": false,
     "start_time": "2025-05-10T14:35:24.721312",
     "status": "completed"
    },
    "tags": []
   },
   "outputs": [],
   "source": [
    "df = pd.read_csv('/kaggle/input/sar-preprocess/processed_reviews.csv')"
   ]
  },
  {
   "cell_type": "code",
   "execution_count": 4,
   "id": "c990037e",
   "metadata": {
    "execution": {
     "iopub.execute_input": "2025-05-10T14:35:25.522478Z",
     "iopub.status.busy": "2025-05-10T14:35:25.522006Z",
     "iopub.status.idle": "2025-05-10T14:35:25.537572Z",
     "shell.execute_reply": "2025-05-10T14:35:25.536465Z"
    },
    "papermill": {
     "duration": 0.022367,
     "end_time": "2025-05-10T14:35:25.539647",
     "exception": false,
     "start_time": "2025-05-10T14:35:25.517280",
     "status": "completed"
    },
    "tags": []
   },
   "outputs": [],
   "source": [
    "stop_words = set(stopwords.words('english')).union({\n",
    "    '', ' ', 'this', 'that', 'would', 'also', 'like', 'one', 'get', 'got', 'use', 'used',\n",
    "    'make', 'made', 'even', 'though', 'first', 'second', 'time', 'times', 'several',\n",
    "    'every', 'go', 'went', 'really', 'actually', 'still', 'always', 'never', 'ever',\n",
    "    'much', 'many', 'little', 'bit', 'lot', 'lots', 'well', 'good', 'bad', 'new',\n",
    "    'old', 'big', 'small', 'large', 'happy', 'overall', 'pretty', 'quite', 'fairly',\n",
    "    'long', 'short', 'nice', 'super', 'quick', 'story', 'way', 'thing', 'report',\n",
    "    'camper', 'bonus', 'surprise', 'job', 'addition', 'results', 'performance'\n",
    "})\n",
    "custom_stoplist = {\n",
    "    'amazon', 'com', 'http', 'www', 'product', 'item', 'update', 'asin', 'edit',\n",
    "    'review', 'reviews', 'buy', 'bought', 'purchase', 'purchased', 'order', 'ordered',\n",
    "    'kindle', 'fire', 'blu', 'ray', 'ipad', 'mini', 'ipod', 'touch', 'macbook', 'pro',\n",
    "    'nintendo', 'xl', 'tom', 'blackberry', 'playbook', 'netgear', 'router', 'western',\n",
    "    'digital', 'best', 'e', 'mail', 'tcp', 'cc', 'cmts', 'mac', 'na', 'gon', 'ver',\n",
    "    'star', 'stars', 'rating', 'point', 'years', 'ago', 'year', 'week', 'weeks',\n",
    "    'month', 'months', 'day', 'days', 'third', 'party', 'guess', 'reason', 'provide',\n",
    "    'pay', 'knock', 'ones', 'dvd', 'worth', 'looking', 'unit', 'case'\n",
    "}\n",
    "electronics_nouns = {\n",
    "    'battery', 'screen', 'sound', 'speaker', 'quality', 'setup', 'installation',\n",
    "    'cord', 'cable', 'charger', 'port', 'usb', 'hdmi', 'display', 'picture',\n",
    "    'image', 'resolution', 'performance', 'speed', 'connectivity', 'wifi', 'bluetooth',\n",
    "    'keyboard', 'mouse', 'trackpad', 'camera', 'lens', 'flash', 'memory', 'card',\n",
    "    'storage', 'drive', 'disk', 'processor', 'graphics', 'fan', 'cooling', 'design',\n",
    "    'build', 'material', 'case', 'headphones', 'earbuds', 'mic', 'microphone',\n",
    "    'remote', 'control', 'button', 'touchscreen', 'software', 'firmware', 'interface',\n",
    "    'router', 'keys', 'pixel', 'sensor', 'webcam', 'adapter', 'monitor', 'projector', 'printer'\n",
    "}\n",
    "positive_modifiers = {\n",
    "    'great', 'excellent', 'awesome', 'fantastic', 'amazing', 'reliable', 'easy',\n",
    "    'fast', 'clear', 'smooth', 'perfect', 'crisp', 'sharp', 'loud', 'comfortable',\n",
    "    'durable', 'sturdy', 'seamless', 'intuitive', 'responsive', 'stable', 'quick'\n",
    "}\n",
    "negative_modifiers = {\n",
    "    'poor', 'terrible', 'awful', 'horrible', 'slow', 'difficult', 'cheap', 'flimsy',\n",
    "    'broken', 'faulty', 'unreliable', 'disappointing', 'weak', 'bad', 'low', 'short',\n",
    "    'unresponsive', 'fragile', 'shoddy', 'defective', 'inconsistent', 'unstable'\n",
    "}"
   ]
  },
  {
   "cell_type": "code",
   "execution_count": 5,
   "id": "fa3825f7",
   "metadata": {
    "execution": {
     "iopub.execute_input": "2025-05-10T14:35:25.553188Z",
     "iopub.status.busy": "2025-05-10T14:35:25.552843Z",
     "iopub.status.idle": "2025-05-10T14:35:25.558256Z",
     "shell.execute_reply": "2025-05-10T14:35:25.557090Z"
    },
    "papermill": {
     "duration": 0.016205,
     "end_time": "2025-05-10T14:35:25.560039",
     "exception": false,
     "start_time": "2025-05-10T14:35:25.543834",
     "status": "completed"
    },
    "tags": []
   },
   "outputs": [],
   "source": [
    "def clean_text(text):\n",
    "    # Remove URLs, special characters, and extra spaces\n",
    "    text = re.sub(r'http\\S+|www\\S+|[^\\w\\s]', ' ', text.lower())\n",
    "    text = re.sub(r'\\s+', ' ', text).strip()\n",
    "    return text"
   ]
  },
  {
   "cell_type": "code",
   "execution_count": 6,
   "id": "b097a897",
   "metadata": {
    "execution": {
     "iopub.execute_input": "2025-05-10T14:35:25.568518Z",
     "iopub.status.busy": "2025-05-10T14:35:25.568181Z",
     "iopub.status.idle": "2025-05-10T14:35:25.574023Z",
     "shell.execute_reply": "2025-05-10T14:35:25.572831Z"
    },
    "papermill": {
     "duration": 0.011931,
     "end_time": "2025-05-10T14:35:25.575713",
     "exception": false,
     "start_time": "2025-05-10T14:35:25.563782",
     "status": "completed"
    },
    "tags": []
   },
   "outputs": [],
   "source": [
    "def tokenize(text):\n",
    "    tokens = word_tokenize(text.lower())\n",
    "    tokens = [t for t in tokens if t.isalpha() and t not in stop_words and t not in custom_stoplist]\n",
    "    return tokens"
   ]
  },
  {
   "cell_type": "code",
   "execution_count": 7,
   "id": "eef3b472",
   "metadata": {
    "execution": {
     "iopub.execute_input": "2025-05-10T14:35:25.585780Z",
     "iopub.status.busy": "2025-05-10T14:35:25.584305Z",
     "iopub.status.idle": "2025-05-10T14:35:47.645503Z",
     "shell.execute_reply": "2025-05-10T14:35:47.644443Z"
    },
    "papermill": {
     "duration": 22.067961,
     "end_time": "2025-05-10T14:35:47.647250",
     "exception": false,
     "start_time": "2025-05-10T14:35:25.579289",
     "status": "completed"
    },
    "tags": []
   },
   "outputs": [],
   "source": [
    "df['cleaned_review'] = df['reviewText'].apply(clean_text)\n",
    "df['tokens'] = df['cleaned_review'].apply(tokenize)"
   ]
  },
  {
   "cell_type": "code",
   "execution_count": 8,
   "id": "404f21cd",
   "metadata": {
    "execution": {
     "iopub.execute_input": "2025-05-10T14:35:47.655757Z",
     "iopub.status.busy": "2025-05-10T14:35:47.655402Z",
     "iopub.status.idle": "2025-05-10T14:35:47.665185Z",
     "shell.execute_reply": "2025-05-10T14:35:47.664426Z"
    },
    "papermill": {
     "duration": 0.015901,
     "end_time": "2025-05-10T14:35:47.666752",
     "exception": false,
     "start_time": "2025-05-10T14:35:47.650851",
     "status": "completed"
    },
    "tags": []
   },
   "outputs": [],
   "source": [
    "def extract_sentiment_phrases(tokens, sentiment):\n",
    "    tagged = pos_tag(tokens)\n",
    "    phrases = []\n",
    "    for i in range(len(tagged) - 1):\n",
    "        word1, tag1 = tagged[i]\n",
    "        word2, tag2 = tagged[i + 1]\n",
    "        # Adjective-noun or adverb-noun patterns\n",
    "        if (tag1.startswith('JJ') or tag1.startswith('RB')) and tag2.startswith('NN'):\n",
    "            if word2 in electronics_nouns and (\n",
    "                (sentiment == 'Positive' and word1 in positive_modifiers) or\n",
    "                (sentiment == 'Negative' and word1 in negative_modifiers)\n",
    "            ):\n",
    "                phrases.append(f\"{word1} {word2}\")\n",
    "\n",
    "    # Include bigrams and trigrams with electronics nouns and sentiment modifiers\n",
    "    for bg in bigrams(tokens):\n",
    "        phrase = ' '.join(bg)\n",
    "        if any(w in electronics_nouns for w in bg) and (\n",
    "            (sentiment == 'Positive' and any(w in positive_modifiers for w in bg)) or\n",
    "            (sentiment == 'Negative' and any(w in negative_modifiers for w in bg))\n",
    "        ):\n",
    "            phrases.append(phrase)\n",
    "\n",
    "    for tg in trigrams(tokens):\n",
    "        phrase = ' '.join(tg)\n",
    "        if any(w in electronics_nouns for w in tg) and (\n",
    "            (sentiment == 'Positive' and any(w in positive_modifiers for w in tg)) or\n",
    "            (sentiment == 'Negative' and any(w in negative_modifiers for w in tg))\n",
    "        ):\n",
    "            phrases.append(phrase)\n",
    "\n",
    "    return phrases        "
   ]
  },
  {
   "cell_type": "code",
   "execution_count": 9,
   "id": "d203d1f7",
   "metadata": {
    "execution": {
     "iopub.execute_input": "2025-05-10T14:35:47.675677Z",
     "iopub.status.busy": "2025-05-10T14:35:47.675252Z",
     "iopub.status.idle": "2025-05-10T14:37:45.279390Z",
     "shell.execute_reply": "2025-05-10T14:37:45.277838Z"
    },
    "papermill": {
     "duration": 117.610861,
     "end_time": "2025-05-10T14:37:45.281292",
     "exception": false,
     "start_time": "2025-05-10T14:35:47.670431",
     "status": "completed"
    },
    "tags": []
   },
   "outputs": [],
   "source": [
    "positive_phrases = Counter()\n",
    "negative_phrases = Counter()\n",
    "\n",
    "for idx, row in df.iterrows():\n",
    "    tokens = row['tokens']\n",
    "    sentiment = row['sentiment']\n",
    "    if sentiment == 'Positive':\n",
    "        positive_phrases.update(extract_sentiment_phrases(tokens, 'Positive'))\n",
    "    elif sentiment == 'Negative':\n",
    "        negative_phrases.update(extract_sentiment_phrases(tokens, 'Negative'))"
   ]
  },
  {
   "cell_type": "code",
   "execution_count": 10,
   "id": "0cf73d2a",
   "metadata": {
    "execution": {
     "iopub.execute_input": "2025-05-10T14:37:45.290294Z",
     "iopub.status.busy": "2025-05-10T14:37:45.289957Z",
     "iopub.status.idle": "2025-05-10T14:39:06.761319Z",
     "shell.execute_reply": "2025-05-10T14:39:06.760422Z"
    },
    "papermill": {
     "duration": 81.478032,
     "end_time": "2025-05-10T14:39:06.763263",
     "exception": false,
     "start_time": "2025-05-10T14:37:45.285231",
     "status": "completed"
    },
    "tags": []
   },
   "outputs": [],
   "source": [
    "# Consolidate similar phrases\n",
    "def consolidated_phrases(phrase_counts):\n",
    "    phrases = list(phrase_counts.keys())\n",
    "    if not phrases:\n",
    "        return phrase_counts\n",
    "\n",
    "    # Compute TF-IDF vectors for similarity\n",
    "    vectorizer = TfidfVectorizer()\n",
    "    try:\n",
    "        tfidf_matrix = vectorizer.fit_transform(phrases)\n",
    "        similarities = cosine_similarity(tfidf_matrix)\n",
    "    except ValueError:\n",
    "        print(\"Error\")\n",
    "        return phrase_counts\n",
    "\n",
    "    # Group similar phrases (cosine similarity > 0.7)\n",
    "    clusters = []\n",
    "    used = set()\n",
    "    for i, phrase in enumerate(phrases):\n",
    "        if phrase in used:\n",
    "            continue\n",
    "        cluster = [phrase]\n",
    "        used.add(phrase)\n",
    "        for j, other_phrase in enumerate(phrases[i + 1:], start=i + 1):\n",
    "            if other_phrase not in used and similarities[i][j] > 0.95:\n",
    "                cluster.append(other_phrase)\n",
    "                used.add(other_phrase)\n",
    "        clusters.append(cluster) \n",
    "\n",
    "    # Select representative phrase (most frequent)\n",
    "    consolidated = Counter()\n",
    "    for cluster in clusters:\n",
    "        if len(cluster) == 1:\n",
    "            consolidated[cluster[0]] = phrase_counts[cluster[0]]\n",
    "        else:\n",
    "            counts = [(p, phrase_counts[p]) for p in cluster]\n",
    "            representative = max(counts, key=lambda x: x[1])[0]\n",
    "            consolidated[representative] = sum(c[1] for c in counts)\n",
    "\n",
    "    return consolidated\n",
    "\n",
    "positive_phrases = consolidated_phrases(positive_phrases)\n",
    "negative_phrases = consolidated_phrases(negative_phrases)"
   ]
  },
  {
   "cell_type": "code",
   "execution_count": 11,
   "id": "e76ef121",
   "metadata": {
    "execution": {
     "iopub.execute_input": "2025-05-10T14:39:06.772430Z",
     "iopub.status.busy": "2025-05-10T14:39:06.772053Z",
     "iopub.status.idle": "2025-05-10T14:39:06.779481Z",
     "shell.execute_reply": "2025-05-10T14:39:06.778416Z"
    },
    "papermill": {
     "duration": 0.013738,
     "end_time": "2025-05-10T14:39:06.781017",
     "exception": false,
     "start_time": "2025-05-10T14:39:06.767279",
     "status": "completed"
    },
    "tags": []
   },
   "outputs": [],
   "source": [
    "def compute_pmi(phrase_counts, word_counts, total_count, min_freq=10):\n",
    "    pmi_scores = {}\n",
    "    for phrase, count in phrase_counts.items():\n",
    "        if count < min_freq:\n",
    "            continue\n",
    "        words = phrase.split()\n",
    "        if len(words) < 2:\n",
    "            continue\n",
    "        p_w1 = word_counts[words[0]] / total_count if words[0] in word_counts else 1e-6\n",
    "        p_w2 = word_counts[words[1]] / total_count if words[1] in word_counts else 1e-6\n",
    "        p_w1_w2 = count / total_count\n",
    "        pmi = np.log2(p_w1_w2 / (p_w1 * p_w2)) if p_w1_w2 > 0 else 0\n",
    "        # Weight for sentiment modifier presence\n",
    "        modifier_score = 1.5 if any(w in positive_modifiers.union(negative_modifiers) for w in words) else 1.0\n",
    "        # Boost for electronics nouns\n",
    "        electronics_score = 2.0 if any(w in electronics_nouns for w in words) else 1.0\n",
    "        pmi_scores[phrase] = pmi * count * modifier_score * electronics_score\n",
    "    return pmi_scores"
   ]
  },
  {
   "cell_type": "code",
   "execution_count": 12,
   "id": "cdeaf0d8",
   "metadata": {
    "execution": {
     "iopub.execute_input": "2025-05-10T14:39:06.789463Z",
     "iopub.status.busy": "2025-05-10T14:39:06.788954Z",
     "iopub.status.idle": "2025-05-10T14:39:07.206564Z",
     "shell.execute_reply": "2025-05-10T14:39:07.205331Z"
    },
    "papermill": {
     "duration": 0.423763,
     "end_time": "2025-05-10T14:39:07.208334",
     "exception": false,
     "start_time": "2025-05-10T14:39:06.784571",
     "status": "completed"
    },
    "tags": []
   },
   "outputs": [],
   "source": [
    "word_counts = Counter()\n",
    "for tokens in df['tokens']:\n",
    "    word_counts.update(tokens)\n",
    "total_count = sum(word_counts.values())\n",
    "\n",
    "positive_pmi = compute_pmi(positive_phrases, word_counts, total_count, min_freq=20)\n",
    "negative_pmi = compute_pmi(negative_phrases, word_counts, total_count, min_freq=5)"
   ]
  },
  {
   "cell_type": "code",
   "execution_count": 13,
   "id": "f44dac15",
   "metadata": {
    "execution": {
     "iopub.execute_input": "2025-05-10T14:39:07.216833Z",
     "iopub.status.busy": "2025-05-10T14:39:07.216504Z",
     "iopub.status.idle": "2025-05-10T14:39:07.226621Z",
     "shell.execute_reply": "2025-05-10T14:39:07.225705Z"
    },
    "papermill": {
     "duration": 0.016289,
     "end_time": "2025-05-10T14:39:07.228267",
     "exception": false,
     "start_time": "2025-05-10T14:39:07.211978",
     "status": "completed"
    },
    "tags": []
   },
   "outputs": [],
   "source": [
    "def filter_phrases(pos_pmi, neg_pmi, min_pmi=3.0, max_phrases=100):\n",
    "    # Remove phrases that appear in both lists\n",
    "    pos_phrases = set(pos_pmi.keys())\n",
    "    neg_phrases = set(neg_pmi.keys())\n",
    "    common_phrases = pos_phrases.intersection(neg_phrases)\n",
    "    filtered_pos = {k: v for k, v in pos_pmi.items() if k not in common_phrases}\n",
    "    filtered_neg = {k: v for k, v in neg_pmi.items() if k not in common_phrases}\n",
    "    \n",
    "    # Additional filtering: high PMI, no numbers, no stoplist terms\n",
    "    def is_valid_phrase(phrase, pmi):\n",
    "        words = phrase.split()\n",
    "        return (\n",
    "            pmi > min_pmi and\n",
    "            re.search(r'\\d', phrase) is None and\n",
    "            not any(w in custom_stoplist for w in words) and\n",
    "            any(w in electronics_nouns for w in words) and\n",
    "            any(w in positive_modifiers.union(negative_modifiers) for w in words)\n",
    "        )\n",
    "\n",
    "    filtered_pos = {k: v for k, v in filtered_pos.items() if is_valid_phrase(k, v)}\n",
    "    filtered_neg = {k: v for k, v in filtered_neg.items() if is_valid_phrase(k, v)}\n",
    "\n",
    "    return(\n",
    "        sorted(filtered_pos.items(), key=lambda x: x[1], reverse=True)[:max_phrases],\n",
    "        sorted(filtered_neg.items(), key=lambda x: x[1], reverse=True)[:max_phrases]\n",
    "    )\n",
    "\n",
    "top_positive, top_negative = filter_phrases(positive_pmi, negative_pmi)"
   ]
  },
  {
   "cell_type": "code",
   "execution_count": 14,
   "id": "030bc416",
   "metadata": {
    "execution": {
     "iopub.execute_input": "2025-05-10T14:39:07.236617Z",
     "iopub.status.busy": "2025-05-10T14:39:07.236268Z",
     "iopub.status.idle": "2025-05-10T14:39:07.243790Z",
     "shell.execute_reply": "2025-05-10T14:39:07.242576Z"
    },
    "papermill": {
     "duration": 0.013516,
     "end_time": "2025-05-10T14:39:07.245387",
     "exception": false,
     "start_time": "2025-05-10T14:39:07.231871",
     "status": "completed"
    },
    "tags": []
   },
   "outputs": [
    {
     "data": {
      "text/plain": [
       "[('poor quality', 2141.346787766827),\n",
       " ('poor design', 1079.4512545667849),\n",
       " ('low quality', 458.03149624014543),\n",
       " ('sound horrible', 177.94120443894386),\n",
       " ('poor picture', 116.74217125815758),\n",
       " ('low battery', 109.40721407489202),\n",
       " ('quality horrible', 108.28263509740222),\n",
       " ('quality terrible', 106.14843083010946),\n",
       " ('poor battery', 100.26266011409649),\n",
       " ('sound terrible', 95.59878489173073),\n",
       " ('terrible microphone', 84.15697824319457),\n",
       " ('horrible software', 73.27776000669203),\n",
       " ('terrible interface', 72.34657431102693),\n",
       " ('cheap material', 70.80425268664722),\n",
       " ('cheap earbuds', 54.33131379513118),\n",
       " ('slow speed', 51.296727702397284),\n",
       " ('flimsy cord', 48.6064640978477),\n",
       " ('poor image', 44.47446607274586),\n",
       " ('poor image quality', 44.47446607274586),\n",
       " ('cheap quality', 42.30681235195836),\n",
       " ('sound weak', 38.47432121969938),\n",
       " ('cheap cord', 30.30886769803375),\n",
       " ('slow drive', 26.978696357575352),\n",
       " ('defective cable', 24.820365406168694),\n",
       " ('broken screen', 23.488033869459805),\n",
       " ('sound poor', 23.32748594822236),\n",
       " ('poor quality control', 22.145620749057446),\n",
       " ('slow camera', 21.801169053586953),\n",
       " ('poor battery life', 13.52669049033798),\n",
       " ('slow card', 12.462907644366116),\n",
       " ('cheap headphones', 4.450255488925777)]"
      ]
     },
     "execution_count": 14,
     "metadata": {},
     "output_type": "execute_result"
    }
   ],
   "source": [
    "top_negative"
   ]
  },
  {
   "cell_type": "code",
   "execution_count": 15,
   "id": "fb3e04d2",
   "metadata": {
    "execution": {
     "iopub.execute_input": "2025-05-10T14:39:07.254387Z",
     "iopub.status.busy": "2025-05-10T14:39:07.253888Z",
     "iopub.status.idle": "2025-05-10T14:39:07.260104Z",
     "shell.execute_reply": "2025-05-10T14:39:07.259069Z"
    },
    "papermill": {
     "duration": 0.012883,
     "end_time": "2025-05-10T14:39:07.262080",
     "exception": false,
     "start_time": "2025-05-10T14:39:07.249197",
     "status": "completed"
    },
    "tags": []
   },
   "outputs": [],
   "source": [
    "with open('/kaggle/working/key_phrases.txt', 'w') as f:\n",
    "    f.write(\"Positive Phrases:\\n\")\n",
    "    for phrase, score in top_positive:\n",
    "        f.write(f\"{phrase}: {score:.4f}\\n\")\n",
    "    f.write(\"Negative Phrases:\\n\")\n",
    "    for phrase, score in top_negative:\n",
    "        f.write(f\"{phrase}: {score:.4f}\\n\")"
   ]
  }
 ],
 "metadata": {
  "kaggle": {
   "accelerator": "none",
   "dataSources": [
    {
     "sourceId": 238709223,
     "sourceType": "kernelVersion"
    }
   ],
   "dockerImageVersionId": 31012,
   "isGpuEnabled": false,
   "isInternetEnabled": true,
   "language": "python",
   "sourceType": "notebook"
  },
  "kernelspec": {
   "display_name": "Python 3",
   "language": "python",
   "name": "python3"
  },
  "language_info": {
   "codemirror_mode": {
    "name": "ipython",
    "version": 3
   },
   "file_extension": ".py",
   "mimetype": "text/x-python",
   "name": "python",
   "nbconvert_exporter": "python",
   "pygments_lexer": "ipython3",
   "version": "3.11.11"
  },
  "papermill": {
   "default_parameters": {},
   "duration": 235.547733,
   "end_time": "2025-05-10T14:39:08.189159",
   "environment_variables": {},
   "exception": null,
   "input_path": "__notebook__.ipynb",
   "output_path": "__notebook__.ipynb",
   "parameters": {},
   "start_time": "2025-05-10T14:35:12.641426",
   "version": "2.6.0"
  }
 },
 "nbformat": 4,
 "nbformat_minor": 5
}
