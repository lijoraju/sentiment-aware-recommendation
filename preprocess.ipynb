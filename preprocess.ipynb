{
 "cells": [
  {
   "cell_type": "code",
   "execution_count": 1,
   "id": "2327a918",
   "metadata": {
    "_cell_guid": "5af69644-04ff-45d9-a2f4-7203da55f72e",
    "_uuid": "085559b1-a91b-4adb-9a8d-70ac02360bd5",
    "collapsed": false,
    "execution": {
     "iopub.execute_input": "2025-05-09T08:05:26.203507Z",
     "iopub.status.busy": "2025-05-09T08:05:26.202685Z",
     "iopub.status.idle": "2025-05-09T08:05:29.781447Z",
     "shell.execute_reply": "2025-05-09T08:05:29.780435Z"
    },
    "jupyter": {
     "outputs_hidden": false
    },
    "papermill": {
     "duration": 3.586189,
     "end_time": "2025-05-09T08:05:29.783160",
     "exception": false,
     "start_time": "2025-05-09T08:05:26.196971",
     "status": "completed"
    },
    "tags": []
   },
   "outputs": [],
   "source": [
    "import pandas as pd\n",
    "import numpy as np\n",
    "from sklearn.model_selection import train_test_split"
   ]
  },
  {
   "cell_type": "code",
   "execution_count": 2,
   "id": "6dc393a5",
   "metadata": {
    "_cell_guid": "cacc56f0-6326-40aa-88b3-aa88631c36f9",
    "_uuid": "99820d0e-23f7-4ed1-9686-9123e98d1dff",
    "collapsed": false,
    "execution": {
     "iopub.execute_input": "2025-05-09T08:05:29.792722Z",
     "iopub.status.busy": "2025-05-09T08:05:29.792201Z",
     "iopub.status.idle": "2025-05-09T08:06:12.232162Z",
     "shell.execute_reply": "2025-05-09T08:06:12.231298Z"
    },
    "jupyter": {
     "outputs_hidden": false
    },
    "papermill": {
     "duration": 42.44646,
     "end_time": "2025-05-09T08:06:12.234029",
     "exception": false,
     "start_time": "2025-05-09T08:05:29.787569",
     "status": "completed"
    },
    "tags": []
   },
   "outputs": [],
   "source": [
    "df = pd.read_json('/kaggle/input/amazon-electronics-reviews/Electronics_5.json', lines=True)"
   ]
  },
  {
   "cell_type": "code",
   "execution_count": 3,
   "id": "14f0b329",
   "metadata": {
    "_cell_guid": "c47f39f9-f3bc-4b92-82f6-cb0f91e49510",
    "_uuid": "0798744a-a12a-4b1f-847d-6a4a18a9969e",
    "collapsed": false,
    "execution": {
     "iopub.execute_input": "2025-05-09T08:06:12.243483Z",
     "iopub.status.busy": "2025-05-09T08:06:12.243170Z",
     "iopub.status.idle": "2025-05-09T08:06:13.605562Z",
     "shell.execute_reply": "2025-05-09T08:06:13.604510Z"
    },
    "jupyter": {
     "outputs_hidden": false
    },
    "papermill": {
     "duration": 1.368714,
     "end_time": "2025-05-09T08:06:13.607011",
     "exception": false,
     "start_time": "2025-05-09T08:06:12.238297",
     "status": "completed"
    },
    "tags": []
   },
   "outputs": [
    {
     "name": "stdout",
     "output_type": "stream",
     "text": [
      "<class 'pandas.core.frame.DataFrame'>\n",
      "RangeIndex: 1689188 entries, 0 to 1689187\n",
      "Data columns (total 9 columns):\n",
      " #   Column          Non-Null Count    Dtype \n",
      "---  ------          --------------    ----- \n",
      " 0   reviewerID      1689188 non-null  object\n",
      " 1   asin            1689188 non-null  object\n",
      " 2   reviewerName    1664458 non-null  object\n",
      " 3   helpful         1689188 non-null  object\n",
      " 4   reviewText      1689188 non-null  object\n",
      " 5   overall         1689188 non-null  int64 \n",
      " 6   summary         1689188 non-null  object\n",
      " 7   unixReviewTime  1689188 non-null  int64 \n",
      " 8   reviewTime      1689188 non-null  object\n",
      "dtypes: int64(2), object(7)\n",
      "memory usage: 116.0+ MB\n"
     ]
    }
   ],
   "source": [
    "df.info()"
   ]
  },
  {
   "cell_type": "code",
   "execution_count": 4,
   "id": "705a69e3",
   "metadata": {
    "_cell_guid": "207f22ed-bca7-4559-a09d-1abb7059f9f7",
    "_uuid": "b5b8db09-a5a0-41e3-9eeb-3bb4e9d634c0",
    "collapsed": false,
    "execution": {
     "iopub.execute_input": "2025-05-09T08:06:13.616255Z",
     "iopub.status.busy": "2025-05-09T08:06:13.615965Z",
     "iopub.status.idle": "2025-05-09T08:06:14.209889Z",
     "shell.execute_reply": "2025-05-09T08:06:14.208970Z"
    },
    "jupyter": {
     "outputs_hidden": false
    },
    "papermill": {
     "duration": 0.600461,
     "end_time": "2025-05-09T08:06:14.211459",
     "exception": false,
     "start_time": "2025-05-09T08:06:13.610998",
     "status": "completed"
    },
    "tags": []
   },
   "outputs": [],
   "source": [
    "df = df[['reviewerID', 'asin', 'reviewText', 'overall']]"
   ]
  },
  {
   "cell_type": "code",
   "execution_count": 5,
   "id": "6d94589a",
   "metadata": {
    "_cell_guid": "3c85724b-77c4-4d44-bee7-7e0e177b61a1",
    "_uuid": "aad2c863-a52e-4263-8bd6-bb453947f2cc",
    "collapsed": false,
    "execution": {
     "iopub.execute_input": "2025-05-09T08:06:14.220660Z",
     "iopub.status.busy": "2025-05-09T08:06:14.220285Z",
     "iopub.status.idle": "2025-05-09T08:06:14.241910Z",
     "shell.execute_reply": "2025-05-09T08:06:14.240980Z"
    },
    "jupyter": {
     "outputs_hidden": false
    },
    "papermill": {
     "duration": 0.027885,
     "end_time": "2025-05-09T08:06:14.243374",
     "exception": false,
     "start_time": "2025-05-09T08:06:14.215489",
     "status": "completed"
    },
    "tags": []
   },
   "outputs": [
    {
     "data": {
      "text/html": [
       "<div>\n",
       "<style scoped>\n",
       "    .dataframe tbody tr th:only-of-type {\n",
       "        vertical-align: middle;\n",
       "    }\n",
       "\n",
       "    .dataframe tbody tr th {\n",
       "        vertical-align: top;\n",
       "    }\n",
       "\n",
       "    .dataframe thead th {\n",
       "        text-align: right;\n",
       "    }\n",
       "</style>\n",
       "<table border=\"1\" class=\"dataframe\">\n",
       "  <thead>\n",
       "    <tr style=\"text-align: right;\">\n",
       "      <th></th>\n",
       "      <th>reviewerID</th>\n",
       "      <th>asin</th>\n",
       "      <th>reviewText</th>\n",
       "      <th>overall</th>\n",
       "    </tr>\n",
       "  </thead>\n",
       "  <tbody>\n",
       "    <tr>\n",
       "      <th>0</th>\n",
       "      <td>AO94DHGC771SJ</td>\n",
       "      <td>0528881469</td>\n",
       "      <td>We got this GPS for my husband who is an (OTR)...</td>\n",
       "      <td>5</td>\n",
       "    </tr>\n",
       "    <tr>\n",
       "      <th>1</th>\n",
       "      <td>AMO214LNFCEI4</td>\n",
       "      <td>0528881469</td>\n",
       "      <td>I'm a professional OTR truck driver, and I bou...</td>\n",
       "      <td>1</td>\n",
       "    </tr>\n",
       "    <tr>\n",
       "      <th>2</th>\n",
       "      <td>A3N7T0DY83Y4IG</td>\n",
       "      <td>0528881469</td>\n",
       "      <td>Well, what can I say.  I've had this unit in m...</td>\n",
       "      <td>3</td>\n",
       "    </tr>\n",
       "    <tr>\n",
       "      <th>3</th>\n",
       "      <td>A1H8PY3QHMQQA0</td>\n",
       "      <td>0528881469</td>\n",
       "      <td>Not going to write a long review, even thought...</td>\n",
       "      <td>2</td>\n",
       "    </tr>\n",
       "    <tr>\n",
       "      <th>4</th>\n",
       "      <td>A24EV6RXELQZ63</td>\n",
       "      <td>0528881469</td>\n",
       "      <td>I've had mine for a year and here's what we go...</td>\n",
       "      <td>1</td>\n",
       "    </tr>\n",
       "  </tbody>\n",
       "</table>\n",
       "</div>"
      ],
      "text/plain": [
       "       reviewerID        asin  \\\n",
       "0   AO94DHGC771SJ  0528881469   \n",
       "1   AMO214LNFCEI4  0528881469   \n",
       "2  A3N7T0DY83Y4IG  0528881469   \n",
       "3  A1H8PY3QHMQQA0  0528881469   \n",
       "4  A24EV6RXELQZ63  0528881469   \n",
       "\n",
       "                                          reviewText  overall  \n",
       "0  We got this GPS for my husband who is an (OTR)...        5  \n",
       "1  I'm a professional OTR truck driver, and I bou...        1  \n",
       "2  Well, what can I say.  I've had this unit in m...        3  \n",
       "3  Not going to write a long review, even thought...        2  \n",
       "4  I've had mine for a year and here's what we go...        1  "
      ]
     },
     "execution_count": 5,
     "metadata": {},
     "output_type": "execute_result"
    }
   ],
   "source": [
    "df.head()"
   ]
  },
  {
   "cell_type": "code",
   "execution_count": 6,
   "id": "3ae8668c",
   "metadata": {
    "_cell_guid": "a3ba6a58-b5bc-4dee-9663-56eac8858c75",
    "_uuid": "ecd90fb8-e3b4-4a17-8dee-45bece541001",
    "collapsed": false,
    "execution": {
     "iopub.execute_input": "2025-05-09T08:06:14.252719Z",
     "iopub.status.busy": "2025-05-09T08:06:14.252368Z",
     "iopub.status.idle": "2025-05-09T08:06:14.504921Z",
     "shell.execute_reply": "2025-05-09T08:06:14.503900Z"
    },
    "jupyter": {
     "outputs_hidden": false
    },
    "papermill": {
     "duration": 0.258903,
     "end_time": "2025-05-09T08:06:14.506388",
     "exception": false,
     "start_time": "2025-05-09T08:06:14.247485",
     "status": "completed"
    },
    "tags": []
   },
   "outputs": [
    {
     "name": "stdout",
     "output_type": "stream",
     "text": [
      "1071\n"
     ]
    }
   ],
   "source": [
    "print((df['reviewText'] == '').sum())"
   ]
  },
  {
   "cell_type": "code",
   "execution_count": 7,
   "id": "de78d568",
   "metadata": {
    "_cell_guid": "2e416797-35cf-4b14-8aa7-e6112fcbfc4d",
    "_uuid": "8caba525-2724-4a7b-85f9-d938f82c6765",
    "collapsed": false,
    "execution": {
     "iopub.execute_input": "2025-05-09T08:06:14.516399Z",
     "iopub.status.busy": "2025-05-09T08:06:14.515498Z",
     "iopub.status.idle": "2025-05-09T08:06:15.754394Z",
     "shell.execute_reply": "2025-05-09T08:06:15.753568Z"
    },
    "jupyter": {
     "outputs_hidden": false
    },
    "papermill": {
     "duration": 1.245287,
     "end_time": "2025-05-09T08:06:15.756034",
     "exception": false,
     "start_time": "2025-05-09T08:06:14.510747",
     "status": "completed"
    },
    "tags": []
   },
   "outputs": [],
   "source": [
    "df = df.replace('', np.nan)"
   ]
  },
  {
   "cell_type": "code",
   "execution_count": 8,
   "id": "793e0199",
   "metadata": {
    "_cell_guid": "a6f8c0bf-8b42-48c6-8f7b-e4bcd69609b0",
    "_uuid": "21d3fbce-4758-409c-a56d-0f0bc117c019",
    "collapsed": false,
    "execution": {
     "iopub.execute_input": "2025-05-09T08:06:15.765606Z",
     "iopub.status.busy": "2025-05-09T08:06:15.765284Z",
     "iopub.status.idle": "2025-05-09T08:06:16.435538Z",
     "shell.execute_reply": "2025-05-09T08:06:16.434581Z"
    },
    "jupyter": {
     "outputs_hidden": false
    },
    "papermill": {
     "duration": 0.677042,
     "end_time": "2025-05-09T08:06:16.437171",
     "exception": false,
     "start_time": "2025-05-09T08:06:15.760129",
     "status": "completed"
    },
    "tags": []
   },
   "outputs": [
    {
     "name": "stdout",
     "output_type": "stream",
     "text": [
      "reviewerID       0\n",
      "asin             0\n",
      "reviewText    1071\n",
      "overall          0\n",
      "dtype: int64\n"
     ]
    }
   ],
   "source": [
    "print(df.isna().sum())"
   ]
  },
  {
   "cell_type": "code",
   "execution_count": 9,
   "id": "75f5f31e",
   "metadata": {
    "_cell_guid": "f4000737-080c-4b5f-bfb4-a8ca46dc783d",
    "_uuid": "739016ac-4b7d-4ca4-857a-5784f01200b7",
    "collapsed": false,
    "execution": {
     "iopub.execute_input": "2025-05-09T08:06:16.446949Z",
     "iopub.status.busy": "2025-05-09T08:06:16.446529Z",
     "iopub.status.idle": "2025-05-09T08:06:19.412924Z",
     "shell.execute_reply": "2025-05-09T08:06:19.412054Z"
    },
    "jupyter": {
     "outputs_hidden": false
    },
    "papermill": {
     "duration": 2.972979,
     "end_time": "2025-05-09T08:06:19.414416",
     "exception": false,
     "start_time": "2025-05-09T08:06:16.441437",
     "status": "completed"
    },
    "tags": []
   },
   "outputs": [
    {
     "data": {
      "text/plain": [
       "False"
      ]
     },
     "execution_count": 9,
     "metadata": {},
     "output_type": "execute_result"
    }
   ],
   "source": [
    "df.duplicated().any()"
   ]
  },
  {
   "cell_type": "code",
   "execution_count": 10,
   "id": "8b15dccb",
   "metadata": {
    "_cell_guid": "95017afc-141c-4acc-885f-a2b38ad80340",
    "_uuid": "7f23acb4-ae5f-4e31-83f2-1c31676e35b7",
    "collapsed": false,
    "execution": {
     "iopub.execute_input": "2025-05-09T08:06:19.425013Z",
     "iopub.status.busy": "2025-05-09T08:06:19.424394Z",
     "iopub.status.idle": "2025-05-09T08:06:26.713461Z",
     "shell.execute_reply": "2025-05-09T08:06:26.712536Z"
    },
    "jupyter": {
     "outputs_hidden": false
    },
    "papermill": {
     "duration": 7.296323,
     "end_time": "2025-05-09T08:06:26.715109",
     "exception": false,
     "start_time": "2025-05-09T08:06:19.418786",
     "status": "completed"
    },
    "tags": []
   },
   "outputs": [],
   "source": [
    "df = df.dropna().drop_duplicates()"
   ]
  },
  {
   "cell_type": "code",
   "execution_count": 11,
   "id": "829cc873",
   "metadata": {
    "_cell_guid": "a54071e9-66bd-449d-b242-2619ab8bbf3a",
    "_uuid": "47f002e3-14f3-4d83-95f9-0d4397a04e80",
    "collapsed": false,
    "execution": {
     "iopub.execute_input": "2025-05-09T08:06:26.724753Z",
     "iopub.status.busy": "2025-05-09T08:06:26.724420Z",
     "iopub.status.idle": "2025-05-09T08:06:26.958733Z",
     "shell.execute_reply": "2025-05-09T08:06:26.957801Z"
    },
    "jupyter": {
     "outputs_hidden": false
    },
    "papermill": {
     "duration": 0.241012,
     "end_time": "2025-05-09T08:06:26.960371",
     "exception": false,
     "start_time": "2025-05-09T08:06:26.719359",
     "status": "completed"
    },
    "tags": []
   },
   "outputs": [],
   "source": [
    "df = df.sample(n=50000, random_state=42)"
   ]
  },
  {
   "cell_type": "code",
   "execution_count": 12,
   "id": "19da7cfc",
   "metadata": {
    "_cell_guid": "7cf503c2-8c80-4e6c-ad2b-cc2f2c69247a",
    "_uuid": "bda54fed-29ec-4c1e-a1d8-2fb3e28fc602",
    "collapsed": false,
    "execution": {
     "iopub.execute_input": "2025-05-09T08:06:26.970038Z",
     "iopub.status.busy": "2025-05-09T08:06:26.969725Z",
     "iopub.status.idle": "2025-05-09T08:06:26.975144Z",
     "shell.execute_reply": "2025-05-09T08:06:26.974309Z"
    },
    "jupyter": {
     "outputs_hidden": false
    },
    "papermill": {
     "duration": 0.011901,
     "end_time": "2025-05-09T08:06:26.976507",
     "exception": false,
     "start_time": "2025-05-09T08:06:26.964606",
     "status": "completed"
    },
    "tags": []
   },
   "outputs": [
    {
     "data": {
      "text/plain": [
       "(50000, 4)"
      ]
     },
     "execution_count": 12,
     "metadata": {},
     "output_type": "execute_result"
    }
   ],
   "source": [
    "df.shape"
   ]
  },
  {
   "cell_type": "code",
   "execution_count": 13,
   "id": "402d1885",
   "metadata": {
    "_cell_guid": "06cbec6c-8b64-4443-a5ae-724d2c772848",
    "_uuid": "5535dbd3-d3fb-450b-b975-72a033428639",
    "collapsed": false,
    "execution": {
     "iopub.execute_input": "2025-05-09T08:06:26.986353Z",
     "iopub.status.busy": "2025-05-09T08:06:26.986035Z",
     "iopub.status.idle": "2025-05-09T08:06:27.001037Z",
     "shell.execute_reply": "2025-05-09T08:06:27.000211Z"
    },
    "jupyter": {
     "outputs_hidden": false
    },
    "papermill": {
     "duration": 0.021657,
     "end_time": "2025-05-09T08:06:27.002475",
     "exception": false,
     "start_time": "2025-05-09T08:06:26.980818",
     "status": "completed"
    },
    "tags": []
   },
   "outputs": [],
   "source": [
    "# Convert ratings to sentiment labels\n",
    "def rating_to_sentiment(rating):\n",
    "    if rating <= 2:\n",
    "        return 'Negative'\n",
    "    elif rating == 3:\n",
    "        return 'Neutral'\n",
    "    else:\n",
    "        return 'Positive'\n",
    "\n",
    "df['sentiment'] = df['overall'].apply(rating_to_sentiment)"
   ]
  },
  {
   "cell_type": "code",
   "execution_count": 14,
   "id": "1c80b787",
   "metadata": {
    "_cell_guid": "09384db1-08e0-4744-9004-d81f395d971e",
    "_uuid": "97fbb81a-decb-4302-a009-5a662d1e264c",
    "collapsed": false,
    "execution": {
     "iopub.execute_input": "2025-05-09T08:06:27.012256Z",
     "iopub.status.busy": "2025-05-09T08:06:27.011946Z",
     "iopub.status.idle": "2025-05-09T08:06:27.021377Z",
     "shell.execute_reply": "2025-05-09T08:06:27.020644Z"
    },
    "jupyter": {
     "outputs_hidden": false
    },
    "papermill": {
     "duration": 0.015949,
     "end_time": "2025-05-09T08:06:27.022733",
     "exception": false,
     "start_time": "2025-05-09T08:06:27.006784",
     "status": "completed"
    },
    "tags": []
   },
   "outputs": [
    {
     "data": {
      "text/html": [
       "<div>\n",
       "<style scoped>\n",
       "    .dataframe tbody tr th:only-of-type {\n",
       "        vertical-align: middle;\n",
       "    }\n",
       "\n",
       "    .dataframe tbody tr th {\n",
       "        vertical-align: top;\n",
       "    }\n",
       "\n",
       "    .dataframe thead th {\n",
       "        text-align: right;\n",
       "    }\n",
       "</style>\n",
       "<table border=\"1\" class=\"dataframe\">\n",
       "  <thead>\n",
       "    <tr style=\"text-align: right;\">\n",
       "      <th></th>\n",
       "      <th>reviewerID</th>\n",
       "      <th>asin</th>\n",
       "      <th>reviewText</th>\n",
       "      <th>overall</th>\n",
       "      <th>sentiment</th>\n",
       "    </tr>\n",
       "  </thead>\n",
       "  <tbody>\n",
       "    <tr>\n",
       "      <th>640246</th>\n",
       "      <td>AOB13I1SL2P5</td>\n",
       "      <td>B002PO15GC</td>\n",
       "      <td>This is a Non Dell cheap replacement for Dell ...</td>\n",
       "      <td>4</td>\n",
       "      <td>Positive</td>\n",
       "    </tr>\n",
       "    <tr>\n",
       "      <th>390105</th>\n",
       "      <td>A3TPGWMAEQVO4T</td>\n",
       "      <td>B0015AD1PK</td>\n",
       "      <td>We already own an older motorola pair, which m...</td>\n",
       "      <td>5</td>\n",
       "      <td>Positive</td>\n",
       "    </tr>\n",
       "    <tr>\n",
       "      <th>1194081</th>\n",
       "      <td>A1FY4NUEN1MEFD</td>\n",
       "      <td>B005X1Y7I2</td>\n",
       "      <td>I had to attend an all-day conference where I ...</td>\n",
       "      <td>5</td>\n",
       "      <td>Positive</td>\n",
       "    </tr>\n",
       "    <tr>\n",
       "      <th>1396859</th>\n",
       "      <td>A2GSJUETASGMO0</td>\n",
       "      <td>B008H9BXMK</td>\n",
       "      <td>This is such a simple idea, but it works so we...</td>\n",
       "      <td>5</td>\n",
       "      <td>Positive</td>\n",
       "    </tr>\n",
       "    <tr>\n",
       "      <th>1621484</th>\n",
       "      <td>ASSQPKE7ZYC0E</td>\n",
       "      <td>B00DR0C96S</td>\n",
       "      <td>This is the second case I have purchased for m...</td>\n",
       "      <td>5</td>\n",
       "      <td>Positive</td>\n",
       "    </tr>\n",
       "  </tbody>\n",
       "</table>\n",
       "</div>"
      ],
      "text/plain": [
       "             reviewerID        asin  \\\n",
       "640246     AOB13I1SL2P5  B002PO15GC   \n",
       "390105   A3TPGWMAEQVO4T  B0015AD1PK   \n",
       "1194081  A1FY4NUEN1MEFD  B005X1Y7I2   \n",
       "1396859  A2GSJUETASGMO0  B008H9BXMK   \n",
       "1621484   ASSQPKE7ZYC0E  B00DR0C96S   \n",
       "\n",
       "                                                reviewText  overall sentiment  \n",
       "640246   This is a Non Dell cheap replacement for Dell ...        4  Positive  \n",
       "390105   We already own an older motorola pair, which m...        5  Positive  \n",
       "1194081  I had to attend an all-day conference where I ...        5  Positive  \n",
       "1396859  This is such a simple idea, but it works so we...        5  Positive  \n",
       "1621484  This is the second case I have purchased for m...        5  Positive  "
      ]
     },
     "execution_count": 14,
     "metadata": {},
     "output_type": "execute_result"
    }
   ],
   "source": [
    "df.tail()"
   ]
  },
  {
   "cell_type": "code",
   "execution_count": 15,
   "id": "17303b77",
   "metadata": {
    "_cell_guid": "a81c1a72-4ab5-4b1d-a60c-29d8670e6075",
    "_uuid": "441cb130-16fe-4290-8273-3c9f64434704",
    "collapsed": false,
    "execution": {
     "iopub.execute_input": "2025-05-09T08:06:27.033012Z",
     "iopub.status.busy": "2025-05-09T08:06:27.032718Z",
     "iopub.status.idle": "2025-05-09T08:06:28.225366Z",
     "shell.execute_reply": "2025-05-09T08:06:28.224319Z"
    },
    "jupyter": {
     "outputs_hidden": false
    },
    "papermill": {
     "duration": 1.199679,
     "end_time": "2025-05-09T08:06:28.227113",
     "exception": false,
     "start_time": "2025-05-09T08:06:27.027434",
     "status": "completed"
    },
    "tags": []
   },
   "outputs": [],
   "source": [
    "df.to_csv('/kaggle/working/processed_reviews.csv', index=False)"
   ]
  },
  {
   "cell_type": "code",
   "execution_count": 16,
   "id": "772be744",
   "metadata": {
    "_cell_guid": "96da7c08-d3cc-4656-a990-cf0cb312920b",
    "_uuid": "b0e7c9ba-2b14-44c1-9184-81b8bbfe2743",
    "collapsed": false,
    "execution": {
     "iopub.execute_input": "2025-05-09T08:06:28.237338Z",
     "iopub.status.busy": "2025-05-09T08:06:28.237013Z",
     "iopub.status.idle": "2025-05-09T08:06:29.445102Z",
     "shell.execute_reply": "2025-05-09T08:06:29.444120Z"
    },
    "jupyter": {
     "outputs_hidden": false
    },
    "papermill": {
     "duration": 1.215062,
     "end_time": "2025-05-09T08:06:29.446771",
     "exception": false,
     "start_time": "2025-05-09T08:06:28.231709",
     "status": "completed"
    },
    "tags": []
   },
   "outputs": [],
   "source": [
    "train_df, val_df = train_test_split(df, test_size=0.2, random_state=42)\n",
    "train_df.to_csv('/kaggle/working/train.csv', index=False)\n",
    "val_df.to_csv('/kaggle/working/val.csv', index=False)"
   ]
  },
  {
   "cell_type": "code",
   "execution_count": 17,
   "id": "d3e4ee92",
   "metadata": {
    "_cell_guid": "75316523-acd0-42c8-afc7-5b2d455a24d9",
    "_uuid": "c0ca23ec-b351-4bc6-ae67-6a924d5bf93d",
    "collapsed": false,
    "execution": {
     "iopub.execute_input": "2025-05-09T08:06:29.457373Z",
     "iopub.status.busy": "2025-05-09T08:06:29.457060Z",
     "iopub.status.idle": "2025-05-09T08:06:29.461710Z",
     "shell.execute_reply": "2025-05-09T08:06:29.460885Z"
    },
    "jupyter": {
     "outputs_hidden": false
    },
    "papermill": {
     "duration": 0.011209,
     "end_time": "2025-05-09T08:06:29.463017",
     "exception": false,
     "start_time": "2025-05-09T08:06:29.451808",
     "status": "completed"
    },
    "tags": []
   },
   "outputs": [
    {
     "name": "stdout",
     "output_type": "stream",
     "text": [
      "No of samples in train 40000\n",
      "No of samples in test 10000\n"
     ]
    }
   ],
   "source": [
    "print(f\"No of samples in train {train_df.shape[0]}\")\n",
    "print(f\"No of samples in test {val_df.shape[0]}\")"
   ]
  }
 ],
 "metadata": {
  "kaggle": {
   "accelerator": "none",
   "dataSources": [
    {
     "datasetId": 1186887,
     "sourceId": 1985440,
     "sourceType": "datasetVersion"
    }
   ],
   "dockerImageVersionId": 31012,
   "isGpuEnabled": false,
   "isInternetEnabled": true,
   "language": "python",
   "sourceType": "notebook"
  },
  "kernelspec": {
   "display_name": "Python 3",
   "language": "python",
   "name": "python3"
  },
  "language_info": {
   "codemirror_mode": {
    "name": "ipython",
    "version": 3
   },
   "file_extension": ".py",
   "mimetype": "text/x-python",
   "name": "python",
   "nbconvert_exporter": "python",
   "pygments_lexer": "ipython3",
   "version": "3.11.11"
  },
  "papermill": {
   "default_parameters": {},
   "duration": 69.409303,
   "end_time": "2025-05-09T08:06:30.889767",
   "environment_variables": {},
   "exception": null,
   "input_path": "__notebook__.ipynb",
   "output_path": "__notebook__.ipynb",
   "parameters": {},
   "start_time": "2025-05-09T08:05:21.480464",
   "version": "2.6.0"
  }
 },
 "nbformat": 4,
 "nbformat_minor": 5
}
